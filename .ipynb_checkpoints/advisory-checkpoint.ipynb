{
 "cells": [
  {
   "cell_type": "code",
   "execution_count": 1,
   "id": "863bafef",
   "metadata": {},
   "outputs": [],
   "source": [
    "import numpy as np\n",
    "import pandas as pd\n",
    "from ipywidgets import interact, interactive, fixed, interact_manual\n",
    "import ipywidgets as widgets\n",
    "from IPython.display import display\n",
    "import datetime\n",
    "import calendar\n",
    "import time"
   ]
  },
  {
   "cell_type": "code",
   "execution_count": 2,
   "id": "3d48b738",
   "metadata": {},
   "outputs": [],
   "source": [
    "df1 = pd.read_csv(\"Early_sown_crop.txt\")\n",
    "df2 = pd.read_csv(\"Timely_sown_crop.txt\")\n",
    "df3 = pd.read_csv(\"Late_sown_crop.txt\")"
   ]
  },
  {
   "cell_type": "code",
   "execution_count": 3,
   "id": "184a74f8",
   "metadata": {},
   "outputs": [],
   "source": [
    "data = {}\n",
    "cs = {}\n",
    "rainfall = ['No rainfall', 'Less than 25 mm', 'More than 25 mm', 'More than 50 mm', 'Very heavy rainfall']\n",
    "for idx in df1.index:\n",
    "    key = (df1['week'][idx], df1['weather'][idx])\n",
    "    if data.get(key, 0) == 0:\n",
    "        data[key] = []\n",
    "        cs[df1['week'][idx]] = df1['crop stage'][idx]\n",
    "    data[key].append(df1['advisory'][idx])"
   ]
  },
  {
   "cell_type": "code",
   "execution_count": 4,
   "id": "19604582",
   "metadata": {},
   "outputs": [],
   "source": [
    "data2 = {}\n",
    "cs2 = {}\n",
    "for idx in df2.index:\n",
    "    key2 = (df2['week'][idx], df2['weather'][idx])\n",
    "    if data2.get(key2, 0) == 0:\n",
    "        data2[key2] = []\n",
    "        cs2[df2['week'][idx]] = df2['crop stage'][idx]\n",
    "    data2[key2].append(df2['advisory'][idx])"
   ]
  },
  {
   "cell_type": "code",
   "execution_count": 5,
   "id": "55dc4c81",
   "metadata": {},
   "outputs": [],
   "source": [
    "data3 = {}\n",
    "cs3 = {}\n",
    "for idx in df3.index:\n",
    "    key3 = (df3['week'][idx], df3['weather'][idx])\n",
    "    if data3.get(key3, 0) == 0:\n",
    "        data3[key3] = []\n",
    "        cs3[df3['week'][idx]] = df3['crop stage'][idx]\n",
    "    data3[key3].append(df3['advisory'][idx])"
   ]
  },
  {
   "cell_type": "code",
   "execution_count": 6,
   "id": "f1cfb0b7",
   "metadata": {},
   "outputs": [],
   "source": [
    "def rain_measure(rain):\n",
    "    if 0<=rain<5:\n",
    "        return 0\n",
    "    elif 5<=rain<25:\n",
    "        return 1\n",
    "    elif 25<=rain<50:\n",
    "        return 2\n",
    "    elif 50<=rain<100:\n",
    "        return 3\n",
    "    else:\n",
    "        return 4"
   ]
  },
  {
   "cell_type": "code",
   "execution_count": 7,
   "id": "7317930a",
   "metadata": {},
   "outputs": [],
   "source": [
    "def advice1(week, rain):\n",
    "    return data[(week, rainfall[rain_measure(rain)])]"
   ]
  },
  {
   "cell_type": "code",
   "execution_count": 8,
   "id": "bbdc644e",
   "metadata": {},
   "outputs": [],
   "source": [
    "def advice2(week, rain):\n",
    "    return data2[(week, rainfall[rain_measure(rain)])]"
   ]
  },
  {
   "cell_type": "code",
   "execution_count": 9,
   "id": "00a95c2a",
   "metadata": {},
   "outputs": [],
   "source": [
    "def advice3(week, rain):\n",
    "    return data2[(week, rainfall[rain_measure(rain)])]"
   ]
  },
  {
   "cell_type": "code",
   "execution_count": 10,
   "id": "54862377",
   "metadata": {
    "scrolled": false
   },
   "outputs": [
    {
     "data": {
      "application/vnd.jupyter.widget-view+json": {
       "model_id": "060eddb9980349a798ad4f5008f5512c",
       "version_major": 2,
       "version_minor": 0
      },
      "text/plain": [
       "interactive(children=(IntSlider(value=30, description='week', max=36, min=25), IntSlider(value=50, description…"
      ]
     },
     "metadata": {},
     "output_type": "display_data"
    }
   ],
   "source": [
    "w1 = interact(advice1, week=(25,36,1), rain = (0,100,1))"
   ]
  },
  {
   "cell_type": "code",
   "execution_count": 11,
   "id": "983d21da",
   "metadata": {},
   "outputs": [
    {
     "data": {
      "application/vnd.jupyter.widget-view+json": {
       "model_id": "6bda0fb24de8413d9c094d311ebc967f",
       "version_major": 2,
       "version_minor": 0
      },
      "text/plain": [
       "interactive(children=(IntSlider(value=32, description='week', max=38, min=27), IntSlider(value=50, description…"
      ]
     },
     "metadata": {},
     "output_type": "display_data"
    }
   ],
   "source": [
    "w2 = interact(advice2, week=(27,38,1), rain = (0,100,1))"
   ]
  },
  {
   "cell_type": "code",
   "execution_count": 12,
   "id": "2407f598",
   "metadata": {},
   "outputs": [
    {
     "data": {
      "application/vnd.jupyter.widget-view+json": {
       "model_id": "9ea901074aaa42dabdd7fa90476ae691",
       "version_major": 2,
       "version_minor": 0
      },
      "text/plain": [
       "interactive(children=(IntSlider(value=34, description='week', max=39, min=29), IntSlider(value=50, description…"
      ]
     },
     "metadata": {},
     "output_type": "display_data"
    }
   ],
   "source": [
    "w3 = interact(advice3, week=(29,39,1), rain = (0,100,1))"
   ]
  },
  {
   "cell_type": "code",
   "execution_count": 13,
   "id": "78fd1384",
   "metadata": {},
   "outputs": [
    {
     "data": {
      "text/plain": [
       "(49,\n",
       " [1638469800,\n",
       "  1638556200,\n",
       "  1638642600,\n",
       "  1638729000,\n",
       "  1638815400,\n",
       "  1638901800,\n",
       "  1638988200])"
      ]
     },
     "execution_count": 13,
     "metadata": {},
     "output_type": "execute_result"
    }
   ],
   "source": [
    "YEAR = 2021\n",
    "def convert_to_unixtime(date):\n",
    "    unixtime = time.mktime(date.timetuple())\n",
    "    return int(unixtime)\n",
    "\n",
    "def generate_smw_df(year):\n",
    "    start_date = str(year) + '-01-01'\n",
    "    end_date = str(year) + '-12-31'\n",
    "    df  = pd.DataFrame({'issue_date': pd.date_range(start_date, end_date)})\n",
    "\n",
    "    #inspire https://stackoverflow.com/a/61592907/2901002\n",
    "    normal_year = np.append(np.arange(363) // 7 + 1, np.repeat(52, 5))\n",
    "    leap_year  = np.concatenate((normal_year[:59], [9], normal_year[59:366]))\n",
    "    days = df['issue_date'].dt.dayofyear\n",
    "\n",
    "    df['smw'] = np.where(df['issue_date'].dt.is_leap_year, \n",
    "                         leap_year[days - 1], \n",
    "                         normal_year[days - 1])\n",
    "    return df\n",
    "\n",
    "SMW = generate_smw_df(2021)\n",
    "\n",
    "def get_meteorogical_week(date):    \n",
    "    df = SMW\n",
    "    week_no = int(df[df['issue_date'] == date.strftime('%Y-%m-%d')]['smw'])\n",
    "    week_range = df[df['smw'] == week_no]\n",
    "    week_rangedt = pd.to_datetime(week_range['issue_date']).dt.date.tolist()\n",
    "    week_list = []\n",
    "    for day in week_rangedt:\n",
    "        week_list.append(convert_to_unixtime(day))\n",
    "    return int(week_no), week_list\n",
    "\n",
    "get_meteorogical_week(datetime.datetime.today())"
   ]
  },
  {
   "cell_type": "code",
   "execution_count": 14,
   "id": "b1998b17",
   "metadata": {},
   "outputs": [],
   "source": [
    "import requests\n",
    "\n",
    "API_KEY = '46e6b252ffd0b176058341c1a1275c35'\n",
    "LAT = '19.07'\n",
    "LON = '72.87'\n",
    "\n",
    "def get_week_stats(date = None):\n",
    "    CURRENT_WEATHER_URL = f'https://api.openweathermap.org/data/2.5/onecall?lat={LAT}&lon={LON}&exclude=current,minutely,hourly&appid={API_KEY}'\n",
    "    if date is None:\n",
    "        date = datetime.datetime.today()\n",
    "    \n",
    "    week_no, week_list = get_meteorogical_week(date)\n",
    "    total = 7\n",
    "    rainfall = 0\n",
    "    \n",
    "    for timestamp in week_list:\n",
    "        if timestamp < convert_to_unixtime(date):\n",
    "            total -= 1\n",
    "            rainfall += history_rainfall(timestamp)\n",
    "    \n",
    "    if total <= 0:\n",
    "        return rainfall, week_no\n",
    "    \n",
    "    resp = requests.get(CURRENT_WEATHER_URL).json()\n",
    "    for daily in resp['daily']:\n",
    "        if daily.get('rain') is not None:\n",
    "            rainfall += daily['rain']\n",
    "    \n",
    "    return rainfall, week_no\n",
    "\n",
    "def history_rainfall(unixtime):\n",
    "    HISTORY_WEATHER_URL = f'https://api.openweathermap.org/data/2.5/onecall/timemachine?lat={LAT}&lon={LON}&dt={unixtime}&appid={API_KEY}'\n",
    "    resp = requests.get(HISTORY_WEATHER_URL).json()\n",
    "    rainfall = 0\n",
    "    try:\n",
    "        for hour in resp['hourly']:\n",
    "            if hour.get('rain') is not None:\n",
    "                rainfall += resp['hourly']['rain']\n",
    "    except Exception:\n",
    "        pass\n",
    "    return rainfall\n"
   ]
  },
  {
   "cell_type": "code",
   "execution_count": 15,
   "id": "2a7ee4f8",
   "metadata": {},
   "outputs": [],
   "source": [
    "def query_df(df, week, crop_stage):\n",
    "    query = df[(df['week'] == week) & (df['crop stage'] == crop_stage)]\n",
    "    return bool(query.shape[0])\n",
    "\n",
    "def get_crop_cycle(week, crop_stage):\n",
    "    if query_df(df1, week, crop_stage) or query_df(df1, week + 1, crop_stage):\n",
    "        return \"Early Sown\"\n",
    "    elif query_df(df2, week, crop_stage) or query_df(df2, week + 1, crop_stage):\n",
    "        return \"Timely Sown\"\n",
    "    elif query_df(df3, week, crop_stage):\n",
    "        return \"Lately Sown\"\n",
    "    return None\n",
    "\n",
    "def generate_advisory(date, crop_stage, rain):\n",
    "    rainfall, week = get_week_stats(date)\n",
    "    if rain >= 0:\n",
    "        rainfall = rain\n",
    "    cycle = get_crop_cycle(week, crop_stage)\n",
    "    advice = []\n",
    "    if cycle == 'Early Sown':\n",
    "        advice = advice1(week, rainfall)\n",
    "    elif cycle == 'Timely Sown':\n",
    "        advice = advice2(week, rainfall)\n",
    "    elif cycle == 'Lately Sown':\n",
    "        advice = advice3(week, rainfall)\n",
    "    print(\"Stage:\", cycle)\n",
    "    print(\"Rainfall\", rainfall)\n",
    "    print(\"Advisory:\")\n",
    "    for i in range(len(advice)):\n",
    "        print(\" \",i + 1, \": \", advice[i])\n"
   ]
  },
  {
   "cell_type": "code",
   "execution_count": 16,
   "id": "35c419ba",
   "metadata": {},
   "outputs": [
    {
     "name": "stdout",
     "output_type": "stream",
     "text": [
      "Stage: None\n",
      "Rainfall 0\n",
      "Advisory:\n"
     ]
    }
   ],
   "source": [
    "CROP_STAGES = df1['crop stage'].unique().tolist()\n",
    "\n",
    "CROP_STAGES_TUPLE = []\n",
    "for stage in CROP_STAGES:\n",
    "    CROP_STAGES_TUPLE.append((stage, stage))\n",
    "\n",
    "generate_advisory(datetime.datetime.today(), CROP_STAGES[0], -1)"
   ]
  },
  {
   "cell_type": "code",
   "execution_count": 17,
   "id": "66468557",
   "metadata": {},
   "outputs": [
    {
     "data": {
      "application/vnd.jupyter.widget-view+json": {
       "model_id": "2cdbc1b3bbc64e328559b1b211afc4e2",
       "version_major": 2,
       "version_minor": 0
      },
      "text/plain": [
       "interactive(children=(DatePicker(value=None, description='Pick a Date'), Dropdown(description='Crop Stage:', o…"
      ]
     },
     "metadata": {},
     "output_type": "display_data"
    },
    {
     "data": {
      "text/plain": [
       "<function __main__.generate_advisory(date, crop_stage, rain)>"
      ]
     },
     "execution_count": 17,
     "metadata": {},
     "output_type": "execute_result"
    }
   ],
   "source": [
    "out = widgets.Output(layout={'border': '1px solid black'})\n",
    "\n",
    "datepicker = widgets.DatePicker(\n",
    "    description='Pick a Date',\n",
    "    disabled=False\n",
    ")\n",
    "\n",
    "selection_dropdown = widgets.Dropdown(\n",
    "    options=CROP_STAGES_TUPLE,\n",
    "    description='Crop Stage:'\n",
    ")\n",
    "\n",
    "rainfall_slider = widgets.IntSlider(\n",
    "    value = -1,\n",
    "    min = -1,\n",
    "    max = 200\n",
    ")\n",
    "\n",
    "interact(generate_advisory, date = datepicker, crop_stage = selection_dropdown, rain = rainfall_slider)"
   ]
  },
  {
   "cell_type": "code",
   "execution_count": 25,
   "id": "de4910cc",
   "metadata": {},
   "outputs": [
    {
     "data": {
      "text/html": [
       "<div>\n",
       "<style scoped>\n",
       "    .dataframe tbody tr th:only-of-type {\n",
       "        vertical-align: middle;\n",
       "    }\n",
       "\n",
       "    .dataframe tbody tr th {\n",
       "        vertical-align: top;\n",
       "    }\n",
       "\n",
       "    .dataframe thead th {\n",
       "        text-align: right;\n",
       "    }\n",
       "</style>\n",
       "<table border=\"1\" class=\"dataframe\">\n",
       "  <thead>\n",
       "    <tr style=\"text-align: right;\">\n",
       "      <th></th>\n",
       "      <th>N</th>\n",
       "      <th>P</th>\n",
       "      <th>K</th>\n",
       "      <th>Suitability</th>\n",
       "    </tr>\n",
       "  </thead>\n",
       "  <tbody>\n",
       "    <tr>\n",
       "      <th>0</th>\n",
       "      <td>84</td>\n",
       "      <td>36</td>\n",
       "      <td>45</td>\n",
       "      <td>S1</td>\n",
       "    </tr>\n",
       "    <tr>\n",
       "      <th>1</th>\n",
       "      <td>88</td>\n",
       "      <td>37</td>\n",
       "      <td>46</td>\n",
       "      <td>S2</td>\n",
       "    </tr>\n",
       "    <tr>\n",
       "      <th>2</th>\n",
       "      <td>85</td>\n",
       "      <td>37</td>\n",
       "      <td>46</td>\n",
       "      <td>S2</td>\n",
       "    </tr>\n",
       "    <tr>\n",
       "      <th>3</th>\n",
       "      <td>79</td>\n",
       "      <td>38</td>\n",
       "      <td>44</td>\n",
       "      <td>S3</td>\n",
       "    </tr>\n",
       "    <tr>\n",
       "      <th>4</th>\n",
       "      <td>77</td>\n",
       "      <td>49</td>\n",
       "      <td>44</td>\n",
       "      <td>S3</td>\n",
       "    </tr>\n",
       "    <tr>\n",
       "      <th>5</th>\n",
       "      <td>81</td>\n",
       "      <td>39</td>\n",
       "      <td>45</td>\n",
       "      <td>S2</td>\n",
       "    </tr>\n",
       "    <tr>\n",
       "      <th>6</th>\n",
       "      <td>82</td>\n",
       "      <td>37</td>\n",
       "      <td>39</td>\n",
       "      <td>S3</td>\n",
       "    </tr>\n",
       "    <tr>\n",
       "      <th>7</th>\n",
       "      <td>77</td>\n",
       "      <td>39</td>\n",
       "      <td>38</td>\n",
       "      <td>S3</td>\n",
       "    </tr>\n",
       "    <tr>\n",
       "      <th>8</th>\n",
       "      <td>45</td>\n",
       "      <td>31</td>\n",
       "      <td>16</td>\n",
       "      <td>N1</td>\n",
       "    </tr>\n",
       "    <tr>\n",
       "      <th>9</th>\n",
       "      <td>80</td>\n",
       "      <td>11</td>\n",
       "      <td>35</td>\n",
       "      <td>N1</td>\n",
       "    </tr>\n",
       "    <tr>\n",
       "      <th>10</th>\n",
       "      <td>60</td>\n",
       "      <td>14</td>\n",
       "      <td>13</td>\n",
       "      <td>N2</td>\n",
       "    </tr>\n",
       "    <tr>\n",
       "      <th>11</th>\n",
       "      <td>53</td>\n",
       "      <td>29</td>\n",
       "      <td>33</td>\n",
       "      <td>N1</td>\n",
       "    </tr>\n",
       "    <tr>\n",
       "      <th>12</th>\n",
       "      <td>55</td>\n",
       "      <td>31</td>\n",
       "      <td>31</td>\n",
       "      <td>N1</td>\n",
       "    </tr>\n",
       "    <tr>\n",
       "      <th>13</th>\n",
       "      <td>84</td>\n",
       "      <td>36</td>\n",
       "      <td>45</td>\n",
       "      <td>S1</td>\n",
       "    </tr>\n",
       "    <tr>\n",
       "      <th>14</th>\n",
       "      <td>88</td>\n",
       "      <td>37</td>\n",
       "      <td>46</td>\n",
       "      <td>S2</td>\n",
       "    </tr>\n",
       "  </tbody>\n",
       "</table>\n",
       "</div>"
      ],
      "text/plain": [
       "     N   P   K Suitability\n",
       "0   84  36  45          S1\n",
       "1   88  37  46          S2\n",
       "2   85  37  46          S2\n",
       "3   79  38  44          S3\n",
       "4   77  49  44          S3\n",
       "5   81  39  45          S2\n",
       "6   82  37  39          S3\n",
       "7   77  39  38          S3\n",
       "8   45  31  16          N1\n",
       "9   80  11  35          N1\n",
       "10  60  14  13          N2\n",
       "11  53  29  33          N1\n",
       "12  55  31  31          N1\n",
       "13  84  36  45          S1\n",
       "14  88  37  46          S2"
      ]
     },
     "metadata": {},
     "output_type": "display_data"
    }
   ],
   "source": [
    "fertilizer_df = pd.read_csv('fertilizer_dataset.csv')\n",
    "display(fertilizer_df)"
   ]
  },
  {
   "cell_type": "code",
   "execution_count": 44,
   "id": "5e15c1ec",
   "metadata": {},
   "outputs": [
    {
     "name": "stdout",
     "output_type": "stream",
     "text": [
      "[81, 39, 45]\n",
      "S3\n"
     ]
    }
   ],
   "source": [
    "from scipy.spatial import distance\n",
    "\n",
    "def get_optimum_fertilizer(N, P, K):\n",
    "    df = fertilizer_df[fertilizer_df['Suitability'].isin(['S1', 'S2'])]\n",
    "    df = df.drop(['Suitability'], axis=1)\n",
    "    ind = np.argmax(-distance.cdist([[N, P, K]], df, metric='euclidean'))\n",
    "    return df.iloc[[ind]].values.tolist()[0]\n",
    "\n",
    "def get_soil_suitability(N, P, K):\n",
    "    df = fertilizer_df\n",
    "    mod_df = df.drop(['Suitability'], axis=1)\n",
    "    ind = np.argmax(-distance.cdist([[N, P, K]], mod_df, metric='euclidean'))\n",
    "    return df.iloc[[ind]].values.tolist()[0][3]\n",
    "\n",
    "print(get_optimum_fertilizer(80, 45, 45))\n",
    "print(get_soil_suitability(80, 45, 45))"
   ]
  },
  {
   "cell_type": "code",
   "execution_count": null,
   "id": "b15c2542",
   "metadata": {},
   "outputs": [],
   "source": [
    "def generate_fertilizer_advisory(N, P, K):\n",
    "    suitability = get_soil_sutiability(N, P, K)\n",
    "    ideal = get_optimum_fertilizer(N, P, K)\n",
    "    print('Soil Suitability:', suitability)\n",
    "    if suitability != 'S1':\n",
    "        print('Advise:')\n",
    "        print(' Add', ideal[0] - N, 'of N.')"
   ]
  }
 ],
 "metadata": {
  "kernelspec": {
   "display_name": "Python 3 (ipykernel)",
   "language": "python",
   "name": "python3"
  },
  "language_info": {
   "codemirror_mode": {
    "name": "ipython",
    "version": 3
   },
   "file_extension": ".py",
   "mimetype": "text/x-python",
   "name": "python",
   "nbconvert_exporter": "python",
   "pygments_lexer": "ipython3",
   "version": "3.8.0"
  }
 },
 "nbformat": 4,
 "nbformat_minor": 5
}
